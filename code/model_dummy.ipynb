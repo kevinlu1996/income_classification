{
 "cells": [
  {
   "cell_type": "code",
   "execution_count": 437,
   "metadata": {},
   "outputs": [],
   "source": [
    "import pandas as pd\n",
    "import numpy as np\n",
    "import seaborn as sns\n",
    "import matplotlib.pyplot as plt\n",
    "from sklearn.linear_model import LogisticRegression\n",
    "from sklearn.model_selection import train_test_split, cross_val_score, GridSearchCV\n",
    "from sklearn.pipeline import Pipeline\n",
    "from sklearn.metrics import confusion_matrix, roc_auc_score\n",
    "from sklearn.svm import SVC\n",
    "from sklearn.ensemble import RandomForestClassifier, ExtraTreesClassifier, VotingClassifier, AdaBoostClassifier, \\\n",
    "GradientBoostingClassifier\n",
    "from sklearn.naive_bayes import BernoulliNB, GaussianNB\n",
    "from sklearn.neighbors import KNeighborsClassifier\n",
    "from sklearn.preprocessing import StandardScaler\n",
    "import time\n",
    "import warnings\n",
    "\n",
    "warnings.simplefilter(action='ignore')\n",
    "pd.options.display.max_columns = 100\n",
    "pd.options.display.max_rows = 100"
   ]
  },
  {
   "cell_type": "code",
   "execution_count": 519,
   "metadata": {},
   "outputs": [],
   "source": [
    "data = pd.read_csv('../data/train_eda.csv')\n",
    "test_data = pd.read_csv('../data/test_eda.csv')\n",
    "\n",
    "#feature =[column for column in data._get_numeric_data().columns]\n",
    "feature = [data.corr()['wage_c'].index[i] for i in range(len(data.corr()['wage_c'])) if abs(data.corr()['wage_c'][i])>0.10]"
   ]
  },
  {
   "cell_type": "code",
   "execution_count": 520,
   "metadata": {},
   "outputs": [
    {
     "data": {
      "text/plain": [
       "['age',\n",
       " 'education-num',\n",
       " 'capital-gain',\n",
       " 'capital-loss',\n",
       " 'hours-per-week',\n",
       " 'wage_c',\n",
       " 'workclass_ Self-emp-inc',\n",
       " 'education_ Bachelors',\n",
       " 'education_ Doctorate',\n",
       " 'education_ HS-grad',\n",
       " 'education_ Masters',\n",
       " 'education_ Prof-school',\n",
       " 'marital-status_ Married-civ-spouse',\n",
       " 'marital-status_ Never-married',\n",
       " 'occupation_ Exec-managerial',\n",
       " 'occupation_ Other-service',\n",
       " 'occupation_ Prof-specialty',\n",
       " 'relationship_ Not-in-family',\n",
       " 'relationship_ Own-child',\n",
       " 'relationship_ Unmarried',\n",
       " 'relationship_ Wife',\n",
       " 'sex_ Male',\n",
       " 'wage_ >50K']"
      ]
     },
     "execution_count": 520,
     "metadata": {},
     "output_type": "execute_result"
    }
   ],
   "source": [
    "feature"
   ]
  },
  {
   "cell_type": "code",
   "execution_count": 521,
   "metadata": {},
   "outputs": [
    {
     "data": {
      "text/plain": [
       "23"
      ]
     },
     "execution_count": 521,
     "metadata": {},
     "output_type": "execute_result"
    }
   ],
   "source": [
    "len(feature)"
   ]
  },
  {
   "cell_type": "code",
   "execution_count": 441,
   "metadata": {},
   "outputs": [],
   "source": [
    "X = data[feature].drop(columns = ['wage_ >50K','wage_c'])\n",
    "y = data['wage_c']\n",
    "\n",
    "X_train, X_test, y_train, y_test = train_test_split(X, y, stratify = y, random_state = 42)"
   ]
  },
  {
   "cell_type": "markdown",
   "metadata": {},
   "source": [
    "## baseline"
   ]
  },
  {
   "cell_type": "code",
   "execution_count": 442,
   "metadata": {},
   "outputs": [
    {
     "data": {
      "text/plain": [
       "0    24720\n",
       "1     7841\n",
       "Name: wage_c, dtype: int64"
      ]
     },
     "execution_count": 442,
     "metadata": {},
     "output_type": "execute_result"
    }
   ],
   "source": [
    "data['wage_c'].value_counts()"
   ]
  },
  {
   "cell_type": "code",
   "execution_count": 443,
   "metadata": {
    "scrolled": true
   },
   "outputs": [
    {
     "data": {
      "text/plain": [
       "0    0.75919\n",
       "1    0.24081\n",
       "Name: wage_c, dtype: float64"
      ]
     },
     "execution_count": 443,
     "metadata": {},
     "output_type": "execute_result"
    }
   ],
   "source": [
    "data['wage_c'].value_counts(normalize=True)"
   ]
  },
  {
   "cell_type": "markdown",
   "metadata": {},
   "source": [
    "## Adaboost"
   ]
  },
  {
   "cell_type": "code",
   "execution_count": 444,
   "metadata": {},
   "outputs": [
    {
     "data": {
      "text/plain": [
       "GridSearchCV(cv=5, error_score='raise-deprecating',\n",
       "             estimator=AdaBoostClassifier(algorithm='SAMME.R',\n",
       "                                          base_estimator=None,\n",
       "                                          learning_rate=1.0, n_estimators=50,\n",
       "                                          random_state=None),\n",
       "             iid='warn', n_jobs=4,\n",
       "             param_grid={'n_estimators': [100, 150, 200, 250]},\n",
       "             pre_dispatch='2*n_jobs', refit=True, return_train_score=False,\n",
       "             scoring=None, verbose=0)"
      ]
     },
     "execution_count": 444,
     "metadata": {},
     "output_type": "execute_result"
    }
   ],
   "source": [
    "ada = AdaBoostClassifier()\n",
    "param = {\n",
    "    'n_estimators' : [100,150,200,250]\n",
    "}\n",
    "\n",
    "grid = GridSearchCV(ada,param, cv=5, n_jobs = 4)\n",
    "grid.fit(X_train, y_train)"
   ]
  },
  {
   "cell_type": "code",
   "execution_count": 445,
   "metadata": {},
   "outputs": [],
   "source": [
    "ada_train = grid.score(X_train, y_train)"
   ]
  },
  {
   "cell_type": "code",
   "execution_count": 446,
   "metadata": {},
   "outputs": [],
   "source": [
    "ada_test = grid.score(X_test, y_test)"
   ]
  },
  {
   "cell_type": "code",
   "execution_count": 447,
   "metadata": {},
   "outputs": [],
   "source": [
    "y_score_proba = [i[1] for i in grid.predict_proba(X_test)]\n",
    "ada_roc = roc_auc_score(y_test, y_score_proba)"
   ]
  },
  {
   "cell_type": "markdown",
   "metadata": {},
   "source": [
    "## Gradient Boost"
   ]
  },
  {
   "cell_type": "code",
   "execution_count": 448,
   "metadata": {},
   "outputs": [
    {
     "data": {
      "text/plain": [
       "GridSearchCV(cv=5, error_score='raise-deprecating',\n",
       "             estimator=GradientBoostingClassifier(criterion='friedman_mse',\n",
       "                                                  init=None, learning_rate=0.1,\n",
       "                                                  loss='deviance', max_depth=3,\n",
       "                                                  max_features=None,\n",
       "                                                  max_leaf_nodes=None,\n",
       "                                                  min_impurity_decrease=0.0,\n",
       "                                                  min_impurity_split=None,\n",
       "                                                  min_samples_leaf=1,\n",
       "                                                  min_samples_split=2,\n",
       "                                                  min_weight_fraction_leaf=0.0,\n",
       "                                                  n_estimators=100,\n",
       "                                                  n_iter_no_change=None,\n",
       "                                                  presort='auto',\n",
       "                                                  random_state=None,\n",
       "                                                  subsample=1.0, tol=0.0001,\n",
       "                                                  validation_fraction=0.1,\n",
       "                                                  verbose=0, warm_start=False),\n",
       "             iid='warn', n_jobs=4,\n",
       "             param_grid={'n_estimators': [100, 150, 200, 50]},\n",
       "             pre_dispatch='2*n_jobs', refit=True, return_train_score=False,\n",
       "             scoring=None, verbose=0)"
      ]
     },
     "execution_count": 448,
     "metadata": {},
     "output_type": "execute_result"
    }
   ],
   "source": [
    "grad = GradientBoostingClassifier()\n",
    "param = {\n",
    "    'n_estimators' : [100, 150, 200, 50]\n",
    "}\n",
    "\n",
    "grid = GridSearchCV(grad,param, cv=5, n_jobs = 4)\n",
    "grid.fit(X_train, y_train)"
   ]
  },
  {
   "cell_type": "code",
   "execution_count": 449,
   "metadata": {},
   "outputs": [],
   "source": [
    "grad_train = grid.score(X_train, y_train)"
   ]
  },
  {
   "cell_type": "code",
   "execution_count": 450,
   "metadata": {},
   "outputs": [],
   "source": [
    "grad_test = grid.score(X_test, y_test)"
   ]
  },
  {
   "cell_type": "code",
   "execution_count": 451,
   "metadata": {},
   "outputs": [],
   "source": [
    "y_score_proba = [i[1] for i in grid.predict_proba(X_test)]\n",
    "grad_roc = roc_auc_score(y_test, y_score_proba)"
   ]
  },
  {
   "cell_type": "markdown",
   "metadata": {},
   "source": [
    "## bernoulliNB"
   ]
  },
  {
   "cell_type": "code",
   "execution_count": 452,
   "metadata": {},
   "outputs": [
    {
     "data": {
      "text/plain": [
       "GridSearchCV(cv=5, error_score='raise-deprecating',\n",
       "             estimator=BernoulliNB(alpha=1.0, binarize=0.0, class_prior=None,\n",
       "                                   fit_prior=True),\n",
       "             iid='warn', n_jobs=4, param_grid={'alpha': [0.1, 1, 10, 100]},\n",
       "             pre_dispatch='2*n_jobs', refit=True, return_train_score=False,\n",
       "             scoring=None, verbose=0)"
      ]
     },
     "execution_count": 452,
     "metadata": {},
     "output_type": "execute_result"
    }
   ],
   "source": [
    "ss = StandardScaler()\n",
    "bern = BernoulliNB()\n",
    "X_train_sc = ss.fit_transform(X_train)\n",
    "X_test_sc = ss.transform(X_test)\n",
    "\n",
    "param = {\n",
    "    'alpha' : [0.1, 1, 10, 100]\n",
    "}\n",
    "\n",
    "grid = GridSearchCV(bern,param, cv=5, n_jobs = 4)\n",
    "grid.fit(X_train_sc, y_train)"
   ]
  },
  {
   "cell_type": "code",
   "execution_count": 453,
   "metadata": {},
   "outputs": [],
   "source": [
    "bern_train = grid.score(X_train_sc, y_train)"
   ]
  },
  {
   "cell_type": "code",
   "execution_count": 454,
   "metadata": {},
   "outputs": [],
   "source": [
    "bern_test = grid.score(X_test_sc, y_test)"
   ]
  },
  {
   "cell_type": "code",
   "execution_count": 455,
   "metadata": {},
   "outputs": [],
   "source": [
    "y_score_proba = [i[1] for i in grid.predict_proba(X_test)]\n",
    "bern_roc = roc_auc_score(y_test, y_score_proba)"
   ]
  },
  {
   "cell_type": "markdown",
   "metadata": {},
   "source": [
    "## Gaussian"
   ]
  },
  {
   "cell_type": "code",
   "execution_count": 456,
   "metadata": {},
   "outputs": [
    {
     "data": {
      "text/plain": [
       "GridSearchCV(cv=5, error_score='raise-deprecating',\n",
       "             estimator=GaussianNB(priors=None, var_smoothing=1e-09), iid='warn',\n",
       "             n_jobs=4, param_grid={}, pre_dispatch='2*n_jobs', refit=True,\n",
       "             return_train_score=False, scoring=None, verbose=0)"
      ]
     },
     "execution_count": 456,
     "metadata": {},
     "output_type": "execute_result"
    }
   ],
   "source": [
    "gau = GaussianNB()\n",
    "param = {}\n",
    "\n",
    "grid = GridSearchCV(gau,param, cv=5, n_jobs = 4)\n",
    "grid.fit(X_train, y_train)"
   ]
  },
  {
   "cell_type": "code",
   "execution_count": 457,
   "metadata": {},
   "outputs": [],
   "source": [
    "gau_train = grid.score(X_train, y_train)"
   ]
  },
  {
   "cell_type": "code",
   "execution_count": 458,
   "metadata": {},
   "outputs": [],
   "source": [
    "gau_test = grid.score(X_test, y_test)"
   ]
  },
  {
   "cell_type": "code",
   "execution_count": 459,
   "metadata": {},
   "outputs": [],
   "source": [
    "y_score_proba = [i[1] for i in grid.predict_proba(X_test)]\n",
    "gau_roc = roc_auc_score(y_test, y_score_proba)"
   ]
  },
  {
   "cell_type": "markdown",
   "metadata": {},
   "source": [
    "## knn"
   ]
  },
  {
   "cell_type": "code",
   "execution_count": 460,
   "metadata": {},
   "outputs": [
    {
     "data": {
      "text/plain": [
       "GridSearchCV(cv=5, error_score='raise-deprecating',\n",
       "             estimator=KNeighborsClassifier(algorithm='auto', leaf_size=30,\n",
       "                                            metric='minkowski',\n",
       "                                            metric_params=None, n_jobs=None,\n",
       "                                            n_neighbors=5, p=2,\n",
       "                                            weights='uniform'),\n",
       "             iid='warn', n_jobs=4, param_grid={'n_neighbors': [3, 5, 10]},\n",
       "             pre_dispatch='2*n_jobs', refit=True, return_train_score=False,\n",
       "             scoring=None, verbose=0)"
      ]
     },
     "execution_count": 460,
     "metadata": {},
     "output_type": "execute_result"
    }
   ],
   "source": [
    "knn = KNeighborsClassifier()\n",
    "param = {\n",
    "    'n_neighbors' : [3,5,10]\n",
    "}\n",
    "\n",
    "grid = GridSearchCV(knn,param, cv=5, n_jobs = 4)\n",
    "grid.fit(X_train, y_train)"
   ]
  },
  {
   "cell_type": "code",
   "execution_count": 461,
   "metadata": {},
   "outputs": [],
   "source": [
    "knn_train = grid.score(X_train, y_train)"
   ]
  },
  {
   "cell_type": "code",
   "execution_count": 462,
   "metadata": {},
   "outputs": [],
   "source": [
    "knn_test = grid.score(X_test,y_test)"
   ]
  },
  {
   "cell_type": "code",
   "execution_count": 463,
   "metadata": {},
   "outputs": [],
   "source": [
    "y_score_proba = [i[1] for i in grid.predict_proba(X_test)]\n",
    "knn_roc = roc_auc_score(y_test, y_score_proba)"
   ]
  },
  {
   "cell_type": "markdown",
   "metadata": {},
   "source": [
    "## logistic regression"
   ]
  },
  {
   "cell_type": "code",
   "execution_count": 464,
   "metadata": {},
   "outputs": [
    {
     "data": {
      "text/plain": [
       "GridSearchCV(cv=5, error_score='raise-deprecating',\n",
       "             estimator=LogisticRegression(C=1.0, class_weight=None, dual=False,\n",
       "                                          fit_intercept=True,\n",
       "                                          intercept_scaling=1, l1_ratio=None,\n",
       "                                          max_iter=100, multi_class='warn',\n",
       "                                          n_jobs=None, penalty='l2',\n",
       "                                          random_state=None, solver='warn',\n",
       "                                          tol=0.0001, verbose=0,\n",
       "                                          warm_start=False),\n",
       "             iid='warn', n_jobs=4,\n",
       "             param_grid={'C': [0.1, 1, 10], 'penalty': ['l1', 'l2']},\n",
       "             pre_dispatch='2*n_jobs', refit=True, return_train_score=False,\n",
       "             scoring=None, verbose=0)"
      ]
     },
     "execution_count": 464,
     "metadata": {},
     "output_type": "execute_result"
    }
   ],
   "source": [
    "log = LogisticRegression()\n",
    "param = {\n",
    "    'penalty': ['l1','l2'],\n",
    "    'C' : [0.1,1,10]\n",
    "}\n",
    "grid = GridSearchCV(log,param, cv=5, n_jobs = 4)\n",
    "grid.fit(X_train, y_train)"
   ]
  },
  {
   "cell_type": "code",
   "execution_count": 465,
   "metadata": {},
   "outputs": [],
   "source": [
    "log_train = grid.score(X_train,y_train)"
   ]
  },
  {
   "cell_type": "code",
   "execution_count": 466,
   "metadata": {},
   "outputs": [],
   "source": [
    "log_test = grid.score(X_test,y_test)"
   ]
  },
  {
   "cell_type": "code",
   "execution_count": 467,
   "metadata": {},
   "outputs": [],
   "source": [
    "pred = grid.predict(X_test)\n",
    "log_roc = roc_auc_score(y_test,pred)"
   ]
  },
  {
   "cell_type": "code",
   "execution_count": 468,
   "metadata": {},
   "outputs": [],
   "source": [
    "y_score_proba = [i[1] for i in grid.predict_proba(X_test)]\n",
    "log_roc = roc_auc_score(y_test, y_score_proba)"
   ]
  },
  {
   "cell_type": "markdown",
   "metadata": {},
   "source": [
    "## Random Forest"
   ]
  },
  {
   "cell_type": "code",
   "execution_count": 469,
   "metadata": {},
   "outputs": [
    {
     "data": {
      "text/plain": [
       "GridSearchCV(cv=5, error_score='raise-deprecating',\n",
       "             estimator=RandomForestClassifier(bootstrap=True, class_weight=None,\n",
       "                                              criterion='gini', max_depth=None,\n",
       "                                              max_features='auto',\n",
       "                                              max_leaf_nodes=None,\n",
       "                                              min_impurity_decrease=0.0,\n",
       "                                              min_impurity_split=None,\n",
       "                                              min_samples_leaf=1,\n",
       "                                              min_samples_split=2,\n",
       "                                              min_weight_fraction_leaf=0.0,\n",
       "                                              n_estimators='warn', n_jobs=None,\n",
       "                                              oob_score=False,\n",
       "                                              random_state=None, verbose=0,\n",
       "                                              warm_start=False),\n",
       "             iid='warn', n_jobs=4, param_grid={}, pre_dispatch='2*n_jobs',\n",
       "             refit=True, return_train_score=False, scoring=None, verbose=0)"
      ]
     },
     "execution_count": 469,
     "metadata": {},
     "output_type": "execute_result"
    }
   ],
   "source": [
    "rf = RandomForestClassifier()\n",
    "param = {}\n",
    "grid = GridSearchCV(rf,param, cv=5, n_jobs = 4)\n",
    "grid.fit(X_train, y_train)"
   ]
  },
  {
   "cell_type": "code",
   "execution_count": 470,
   "metadata": {},
   "outputs": [],
   "source": [
    "rf_train = grid.score(X_train,y_train)"
   ]
  },
  {
   "cell_type": "code",
   "execution_count": 471,
   "metadata": {},
   "outputs": [],
   "source": [
    "rf_test = grid.score(X_test,y_test)"
   ]
  },
  {
   "cell_type": "code",
   "execution_count": 472,
   "metadata": {},
   "outputs": [],
   "source": [
    "y_score_proba = [i[1] for i in grid.predict_proba(X_test)]\n",
    "rf_roc = roc_auc_score(y_test, y_score_proba)"
   ]
  },
  {
   "cell_type": "markdown",
   "metadata": {},
   "source": [
    "## SVC"
   ]
  },
  {
   "cell_type": "code",
   "execution_count": 473,
   "metadata": {},
   "outputs": [],
   "source": [
    "svc = SVC()\n",
    "param = {}\n",
    "grid = GridSearchCV(svc,param, cv=5, n_jobs = 4)\n",
    "grid.fit(X_train, y_train)"
   ]
  },
  {
   "cell_type": "code",
   "execution_count": 474,
   "metadata": {},
   "outputs": [],
   "source": [
    "svc_train = grid.score(X_train,y_train)"
   ]
  },
  {
   "cell_type": "code",
   "execution_count": 475,
   "metadata": {},
   "outputs": [],
   "source": [
    "svc_test = grid.score(X_test,y_test)"
   ]
  },
  {
   "cell_type": "code",
   "execution_count": 476,
   "metadata": {},
   "outputs": [],
   "source": [
    "y_score_proba = [i[1] for i in grid.predict_proba(X_test)]\n",
    "svc_roc = roc_auc_score(y_test, y_score_proba)"
   ]
  },
  {
   "cell_type": "markdown",
   "metadata": {},
   "source": [
    "# voting classifier"
   ]
  },
  {
   "cell_type": "code",
   "execution_count": 522,
   "metadata": {},
   "outputs": [],
   "source": [
    "bern_pipe = Pipeline([\n",
    "   ('ss', StandardScaler()),\n",
    "    ('bern' , BernoulliNB())\n",
    "])\n",
    "\n",
    "vc = VotingClassifier([\n",
    "    ('ada' , AdaBoostClassifier()),\n",
    "    ('grad' , GradientBoostingClassifier()),\n",
    "#    ('gau' , GaussianNB()),\n",
    "#    ('bern1',bern_pipe),\n",
    "#    ('knn' , KNeighborsClassifier()),\n",
    "    ('log' , LogisticRegression()),\n",
    "#    ('rf' , RandomForestClassifier()),\n",
    "#    ('ec' , ExtraTreesClassifier()),\n",
    "#    ('svc' , SVC(gamma='scale')),\n",
    "],n_jobs = 4, voting = 'soft')\n",
    "\n",
    "\n",
    "params = {\n",
    "    'ada__n_estimators' : [250,500],\n",
    "    'grad__n_estimators' : [500],\n",
    "}\n"
   ]
  },
  {
   "cell_type": "code",
   "execution_count": 523,
   "metadata": {},
   "outputs": [
    {
     "data": {
      "text/plain": [
       "GridSearchCV(cv=3, error_score='raise-deprecating',\n",
       "             estimator=VotingClassifier(estimators=[('ada',\n",
       "                                                     AdaBoostClassifier(algorithm='SAMME.R',\n",
       "                                                                        base_estimator=None,\n",
       "                                                                        learning_rate=1.0,\n",
       "                                                                        n_estimators=50,\n",
       "                                                                        random_state=None)),\n",
       "                                                    ('grad',\n",
       "                                                     GradientBoostingClassifier(criterion='friedman_mse',\n",
       "                                                                                init=None,\n",
       "                                                                                learning_rate=0.1,\n",
       "                                                                                loss='deviance',\n",
       "                                                                                max_depth=3,\n",
       "                                                                                max_features=None,\n",
       "                                                                                max_lea...\n",
       "                                                                        multi_class='warn',\n",
       "                                                                        n_jobs=None,\n",
       "                                                                        penalty='l2',\n",
       "                                                                        random_state=None,\n",
       "                                                                        solver='warn',\n",
       "                                                                        tol=0.0001,\n",
       "                                                                        verbose=0,\n",
       "                                                                        warm_start=False))],\n",
       "                                        flatten_transform=True, n_jobs=4,\n",
       "                                        voting='soft', weights=None),\n",
       "             iid='warn', n_jobs=None,\n",
       "             param_grid={'ada__n_estimators': [250, 500],\n",
       "                         'grad__n_estimators': [500]},\n",
       "             pre_dispatch='2*n_jobs', refit=True, return_train_score=False,\n",
       "             scoring=None, verbose=0)"
      ]
     },
     "execution_count": 523,
     "metadata": {},
     "output_type": "execute_result"
    }
   ],
   "source": [
    "gs = GridSearchCV(vc, params, cv = 3)\n",
    "gs.fit(X_train, y_train)"
   ]
  },
  {
   "cell_type": "code",
   "execution_count": 524,
   "metadata": {},
   "outputs": [],
   "source": [
    "vc_train = gs.score(X_train, y_train)"
   ]
  },
  {
   "cell_type": "code",
   "execution_count": 525,
   "metadata": {},
   "outputs": [],
   "source": [
    "vc_test = gs.score(X_test, y_test)"
   ]
  },
  {
   "cell_type": "code",
   "execution_count": 526,
   "metadata": {},
   "outputs": [],
   "source": [
    "y_score_proba = [i[1] for i in gs.predict_proba(X_test)]\n",
    "vc_roc = roc_auc_score(y_test, y_score_proba)"
   ]
  },
  {
   "cell_type": "code",
   "execution_count": 527,
   "metadata": {},
   "outputs": [
    {
     "data": {
      "text/plain": [
       "0.9198805836846954"
      ]
     },
     "execution_count": 527,
     "metadata": {},
     "output_type": "execute_result"
    }
   ],
   "source": [
    "vc_roc"
   ]
  },
  {
   "cell_type": "markdown",
   "metadata": {},
   "source": [
    "# Comparison"
   ]
  },
  {
   "cell_type": "code",
   "execution_count": 517,
   "metadata": {},
   "outputs": [
    {
     "name": "stdout",
     "output_type": "stream",
     "text": [
      "ada: 0.8652743652743653,0.8635302788355239\n",
      "gradient: 0.8707616707616708,0.8647586291610367\n",
      "bernoulli: 0.821990171990172,0.8196781722147156\n",
      "gaussian: 0.8384520884520884,0.8408057978135364\n",
      "knn: 0.8721539721539722,0.851001105515293\n",
      "log: 0.8466011466011466,0.8489129099619211\n",
      "Random Forest: 0.9381244881244881,0.8388404372927158\n",
      "SVC: 0.8774774774774775,0.8498955902223314\n",
      "voting: 0.8609746109746109,0.8652499692912419\n"
     ]
    }
   ],
   "source": [
    "print (f'ada accuracy: {ada_train},{ada_test}')\n",
    "print (f'gradient accuracy: {grad_train},{grad_test}')\n",
    "print (f'bernoulli accuracy: {bern_train},{bern_test}')\n",
    "print (f'gaussian accuracy: {gau_train},{gau_test}')\n",
    "print (f'knn accuracy: {knn_train},{knn_test}')\n",
    "print (f'log accuracy: {log_train},{log_test}')\n",
    "print (f'Random Forest accuracy: {rf_train},{rf_test}')\n",
    "print (f'SVC accuracy: {svc_train},{svc_test}')\n",
    "print (f'voting accuracy: {vc_train},{vc_test}')"
   ]
  },
  {
   "cell_type": "code",
   "execution_count": 518,
   "metadata": {
    "scrolled": true
   },
   "outputs": [
    {
     "name": "stdout",
     "output_type": "stream",
     "text": [
      "ada:0.9231514697773624\n",
      "gradient:0.9258148324853319\n",
      "bernoulli:0.8711308767156758\n",
      "gaussian:0.894890488957272\n",
      "knn:0.894636171083868\n",
      "log:0.8995495990015485\n",
      "Random Forest:0.8716029454978886\n",
      "SVC:0.7405280005546953\n",
      "voting classifier:0.9148112302678716\n"
     ]
    }
   ],
   "source": [
    "print (f'ada roc:{ada_roc}')\n",
    "print (f'gradient roc:{grad_roc}')\n",
    "print (f'bernoulli roc:{bern_roc}')\n",
    "print (f'gaussian roc:{gau_roc}')\n",
    "print (f'knn roc:{knn_roc}')\n",
    "print (f'log roc:{log_roc}')\n",
    "print (f'Random Forest roc:{rf_roc}')\n",
    "print (f'SVC roc:{svc_roc}')\n",
    "print (f'voting classifier roc:{vc_roc}')"
   ]
  },
  {
   "cell_type": "code",
   "execution_count": null,
   "metadata": {},
   "outputs": [],
   "source": []
  },
  {
   "cell_type": "code",
   "execution_count": null,
   "metadata": {},
   "outputs": [],
   "source": []
  }
 ],
 "metadata": {
  "kernelspec": {
   "display_name": "Python 3",
   "language": "python",
   "name": "python3"
  },
  "language_info": {
   "codemirror_mode": {
    "name": "ipython",
    "version": 3
   },
   "file_extension": ".py",
   "mimetype": "text/x-python",
   "name": "python",
   "nbconvert_exporter": "python",
   "pygments_lexer": "ipython3",
   "version": "3.7.4"
  }
 },
 "nbformat": 4,
 "nbformat_minor": 2
}
