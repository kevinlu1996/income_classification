{
 "cells": [
  {
   "cell_type": "code",
   "execution_count": 1,
   "metadata": {},
   "outputs": [],
   "source": [
    "import pandas as pd\n",
    "import numpy as np\n",
    "import seaborn as sns\n",
    "import matplotlib.pyplot as plt\n",
    "from sklearn.linear_model import LogisticRegression\n",
    "from sklearn.model_selection import train_test_split, cross_val_score, GridSearchCV\n",
    "from sklearn.pipeline import Pipeline\n",
    "from sklearn.metrics import confusion_matrix, roc_auc_score\n",
    "from sklearn.svm import SVC\n",
    "from sklearn.ensemble import RandomForestClassifier, ExtraTreesClassifier, VotingClassifier, AdaBoostClassifier, \\\n",
    "GradientBoostingClassifier\n",
    "from sklearn.naive_bayes import BernoulliNB, GaussianNB\n",
    "from sklearn.neighbors import KNeighborsClassifier\n",
    "from sklearn.preprocessing import StandardScaler\n",
    "import time\n",
    "import warnings\n",
    "\n",
    "warnings.simplefilter(action='ignore')\n",
    "pd.options.display.max_columns = 100\n",
    "pd.options.display.max_rows = 100"
   ]
  },
  {
   "cell_type": "code",
   "execution_count": 2,
   "metadata": {},
   "outputs": [],
   "source": [
    "data = pd.read_csv('../data/large_train_sample.csv')\n",
    "test_data = pd.read_csv('../data/test_eda.csv')"
   ]
  },
  {
   "cell_type": "code",
   "execution_count": 3,
   "metadata": {},
   "outputs": [
    {
     "data": {
      "text/plain": [
       "(16281, 13)"
      ]
     },
     "execution_count": 3,
     "metadata": {},
     "output_type": "execute_result"
    }
   ],
   "source": [
    "test_data.shape"
   ]
  },
  {
   "cell_type": "code",
   "execution_count": 4,
   "metadata": {},
   "outputs": [
    {
     "data": {
      "text/plain": [
       "age               0\n",
       "workclass         0\n",
       "fnlwgt            0\n",
       "education         0\n",
       "education-num     0\n",
       "marital-status    0\n",
       "occupation        0\n",
       "relationship      0\n",
       "sex               0\n",
       "capital-gain      0\n",
       "capital-loss      0\n",
       "hours-per-week    0\n",
       "native-country    0\n",
       "wage              0\n",
       "dtype: int64"
      ]
     },
     "execution_count": 4,
     "metadata": {},
     "output_type": "execute_result"
    }
   ],
   "source": [
    "data.isnull().sum()"
   ]
  },
  {
   "cell_type": "code",
   "execution_count": 5,
   "metadata": {},
   "outputs": [
    {
     "data": {
      "text/plain": [
       "Index(['age', 'workclass', 'fnlwgt', 'education', 'education-num',\n",
       "       'marital-status', 'occupation', 'relationship', 'sex', 'capital-gain',\n",
       "       'capital-loss', 'hours-per-week', 'native-country', 'wage'],\n",
       "      dtype='object')"
      ]
     },
     "execution_count": 5,
     "metadata": {},
     "output_type": "execute_result"
    }
   ],
   "source": [
    "data.columns"
   ]
  },
  {
   "cell_type": "code",
   "execution_count": 6,
   "metadata": {},
   "outputs": [],
   "source": [
    "data['wage_c'] = data['wage'].str.strip().map({\n",
    "    '<=50K' : 0,\n",
    "    '>50K' : 1\n",
    "})"
   ]
  },
  {
   "cell_type": "markdown",
   "metadata": {},
   "source": [
    "### workclass to numeric"
   ]
  },
  {
   "cell_type": "code",
   "execution_count": 7,
   "metadata": {},
   "outputs": [
    {
     "data": {
      "text/plain": [
       "workclass\n",
       " Self-emp-inc        0.557348\n",
       " Federal-gov         0.386458\n",
       " Local-gov           0.294792\n",
       " Self-emp-not-inc    0.284927\n",
       " State-gov           0.271957\n",
       " Private             0.218673\n",
       " ?                   0.104031\n",
       " Without-pay         0.000000\n",
       " Never-worked        0.000000\n",
       "Name: wage_c, dtype: float64"
      ]
     },
     "execution_count": 7,
     "metadata": {},
     "output_type": "execute_result"
    }
   ],
   "source": [
    "data.groupby('workclass')['wage_c'].mean().sort_values(ascending = False)"
   ]
  },
  {
   "cell_type": "code",
   "execution_count": 8,
   "metadata": {},
   "outputs": [],
   "source": [
    "data['workclass'] = data['workclass'].str.strip().map({\n",
    "    'Never-worked' : 0,\n",
    "    'Without-pay' : 0,\n",
    "    '?' : 1,\n",
    "    'Private' : 2,\n",
    "    'State-gov' : 3,\n",
    "    'Self-emp-not-inc' : 4,\n",
    "    'Local-gov' : 5,\n",
    "    'Federal-gov' : 6,\n",
    "    'Self-emp-inc' : 7\n",
    "})"
   ]
  },
  {
   "cell_type": "markdown",
   "metadata": {},
   "source": [
    "### education to numeric"
   ]
  },
  {
   "cell_type": "code",
   "execution_count": 9,
   "metadata": {},
   "outputs": [
    {
     "data": {
      "text/plain": [
       "education\n",
       " Doctorate       0.740920\n",
       " Prof-school     0.734375\n",
       " Masters         0.556587\n",
       " Bachelors       0.414753\n",
       " Assoc-voc       0.261216\n",
       " Assoc-acdm      0.248360\n",
       " Some-college    0.190235\n",
       " HS-grad         0.159509\n",
       " 12th            0.076212\n",
       " 10th            0.066452\n",
       " 7th-8th         0.061920\n",
       " 9th             0.052529\n",
       " 11th            0.051064\n",
       " 5th-6th         0.048048\n",
       " 1st-4th         0.035714\n",
       " Preschool       0.000000\n",
       "Name: wage_c, dtype: float64"
      ]
     },
     "execution_count": 9,
     "metadata": {},
     "output_type": "execute_result"
    }
   ],
   "source": [
    "data.groupby('education')['wage_c'].mean().sort_values(ascending = False)"
   ]
  },
  {
   "cell_type": "code",
   "execution_count": 10,
   "metadata": {},
   "outputs": [],
   "source": [
    "data['education'] = data['education'].str.strip().map({\n",
    "    'Preschool' : 0,\n",
    "    '1st-4th' : 1,\n",
    "    '5th-6th' : 2,\n",
    "    '11th' : 3,\n",
    "    '9th' : 4,\n",
    "    '7th-8th' : 5,\n",
    "    '10th' : 6,\n",
    "    '12th' : 7,\n",
    "    'HS-grad': 8,\n",
    "    'Some-college' : 9,\n",
    "    'Assoc-acdm' : 10,\n",
    "    'Assoc-voc' : 11,\n",
    "    'Bachelors' : 12,\n",
    "    'Masters' : 13,\n",
    "    'Prof-school' : 14,\n",
    "    'Doctorate' : 15\n",
    "})"
   ]
  },
  {
   "cell_type": "markdown",
   "metadata": {},
   "source": [
    "## marital-status"
   ]
  },
  {
   "cell_type": "code",
   "execution_count": 11,
   "metadata": {},
   "outputs": [
    {
     "data": {
      "text/plain": [
       "marital-status\n",
       " Married-civ-spouse       0.446848\n",
       " Married-AF-spouse        0.434783\n",
       " Divorced                 0.104209\n",
       " Widowed                  0.085599\n",
       " Married-spouse-absent    0.081340\n",
       " Separated                0.064390\n",
       " Never-married            0.045961\n",
       "Name: wage_c, dtype: float64"
      ]
     },
     "execution_count": 11,
     "metadata": {},
     "output_type": "execute_result"
    }
   ],
   "source": [
    "data.groupby('marital-status')['wage_c'].mean().sort_values(ascending = False)"
   ]
  },
  {
   "cell_type": "code",
   "execution_count": 12,
   "metadata": {},
   "outputs": [],
   "source": [
    "data['marital-status'] = data['marital-status'].str.strip().map({\n",
    "    'Never-married' : 0,\n",
    "    'Separated' : 1,\n",
    "    'Married-spouse-absent' : 2,\n",
    "    'Widowed': 3,\n",
    "    'Divorced' : 4,\n",
    "    'Married-AF-spouse' : 5,\n",
    "    'Married-civ-spouse' : 6,\n",
    "})"
   ]
  },
  {
   "cell_type": "markdown",
   "metadata": {},
   "source": [
    "## occupation"
   ]
  },
  {
   "cell_type": "code",
   "execution_count": 13,
   "metadata": {},
   "outputs": [
    {
     "data": {
      "text/plain": [
       "occupation\n",
       " Exec-managerial      0.484014\n",
       " Prof-specialty       0.449034\n",
       " Protective-serv      0.325116\n",
       " Tech-support         0.304957\n",
       " Sales                0.269315\n",
       " Craft-repair         0.226641\n",
       " Transport-moving     0.200376\n",
       " Adm-clerical         0.134483\n",
       " Machine-op-inspct    0.124875\n",
       " Farming-fishing      0.115694\n",
       " Armed-Forces         0.111111\n",
       " ?                    0.103635\n",
       " Handlers-cleaners    0.062774\n",
       " Other-service        0.041578\n",
       " Priv-house-serv      0.006711\n",
       "Name: wage_c, dtype: float64"
      ]
     },
     "execution_count": 13,
     "metadata": {},
     "output_type": "execute_result"
    }
   ],
   "source": [
    "data.groupby('occupation')['wage_c'].mean().sort_values(ascending = False)"
   ]
  },
  {
   "cell_type": "code",
   "execution_count": 14,
   "metadata": {},
   "outputs": [],
   "source": [
    "data['occupation'] = data['occupation'].str.strip().map({\n",
    "    'Priv-house-serv' : 0,\n",
    "    'Other-service' : 1,\n",
    "    'Handlers-cleaners' : 2,\n",
    "    '?': 3,\n",
    "    'Armed-Forces' : 4,\n",
    "    'Farming-fishing' : 5,\n",
    "    'Machine-op-inspct' : 6,\n",
    "    'Adm-clerical' : 7,\n",
    "    'Transport-moving' : 8,\n",
    "    'Craft-repair' : 9,\n",
    "    'Sales' : 10,\n",
    "    'Tech-support' : 11,\n",
    "    'Protective-serv' : 12,\n",
    "    'Prof-specialty' : 13,\n",
    "    'Exec-managerial' :14\n",
    "})"
   ]
  },
  {
   "cell_type": "markdown",
   "metadata": {},
   "source": [
    "## relationship"
   ]
  },
  {
   "cell_type": "code",
   "execution_count": 15,
   "metadata": {},
   "outputs": [
    {
     "data": {
      "text/plain": [
       "relationship\n",
       " Wife              0.475128\n",
       " Husband           0.448571\n",
       " Not-in-family     0.103070\n",
       " Unmarried         0.063262\n",
       " Other-relative    0.037717\n",
       " Own-child         0.013220\n",
       "Name: wage_c, dtype: float64"
      ]
     },
     "execution_count": 15,
     "metadata": {},
     "output_type": "execute_result"
    }
   ],
   "source": [
    "data.groupby('relationship')['wage_c'].mean().sort_values(ascending = False)"
   ]
  },
  {
   "cell_type": "code",
   "execution_count": 16,
   "metadata": {},
   "outputs": [],
   "source": [
    "data['relationship'] = data['relationship'].str.strip().map({\n",
    "    'Own-child' : 0,\n",
    "    'Other-relative' : 1,\n",
    "    'Unmarried' : 2,\n",
    "    'Not-in-family' : 3,\n",
    "    'Husband' : 4,\n",
    "    'Wife' :5\n",
    "})"
   ]
  },
  {
   "cell_type": "markdown",
   "metadata": {},
   "source": [
    "## native-country"
   ]
  },
  {
   "cell_type": "code",
   "execution_count": 17,
   "metadata": {},
   "outputs": [
    {
     "data": {
      "text/plain": [
       "native-country\n",
       " Iran                          0.418605\n",
       " France                        0.413793\n",
       " India                         0.400000\n",
       " Taiwan                        0.392157\n",
       " Japan                         0.387097\n",
       " Yugoslavia                    0.375000\n",
       " Cambodia                      0.368421\n",
       " Italy                         0.342466\n",
       " England                       0.333333\n",
       " Canada                        0.322314\n",
       " Germany                       0.321168\n",
       " Philippines                   0.308081\n",
       " Hong                          0.300000\n",
       " Greece                        0.275862\n",
       " China                         0.266667\n",
       " Cuba                          0.263158\n",
       " ?                             0.250429\n",
       " Scotland                      0.250000\n",
       " United-States                 0.245835\n",
       " Hungary                       0.230769\n",
       " Ireland                       0.208333\n",
       " South                         0.200000\n",
       " Poland                        0.200000\n",
       " Thailand                      0.166667\n",
       " Ecuador                       0.142857\n",
       " Jamaica                       0.123457\n",
       " Laos                          0.111111\n",
       " Portugal                      0.108108\n",
       " Trinadad&Tobago               0.105263\n",
       " Puerto-Rico                   0.105263\n",
       " Haiti                         0.090909\n",
       " El-Salvador                   0.084906\n",
       " Honduras                      0.076923\n",
       " Vietnam                       0.074627\n",
       " Peru                          0.064516\n",
       " Nicaragua                     0.058824\n",
       " Mexico                        0.051322\n",
       " Guatemala                     0.046875\n",
       " Columbia                      0.033898\n",
       " Dominican-Republic            0.028571\n",
       " Outlying-US(Guam-USVI-etc)    0.000000\n",
       " Holand-Netherlands            0.000000\n",
       "Name: wage_c, dtype: float64"
      ]
     },
     "execution_count": 17,
     "metadata": {},
     "output_type": "execute_result"
    }
   ],
   "source": [
    "data.groupby('native-country')['wage_c'].mean().sort_values(ascending = False)"
   ]
  },
  {
   "cell_type": "code",
   "execution_count": 18,
   "metadata": {},
   "outputs": [],
   "source": [
    "data['native-country'] = data['native-country'].str.strip().map({\n",
    "    'Holand-Netherlands' : 0,\n",
    "    'Outlying-US(Guam-USVI-etc)' : 1,\n",
    "    'Dominican-Republic' : 2,\n",
    "    'Columbia' : 3,\n",
    "    'Guatemala' : 4,\n",
    "    'Mexico' : 5,\n",
    "    'Nicaragua' : 6,\n",
    "    'Peru' : 7,\n",
    "    'Vietnam' : 8,\n",
    "    'Honduras' : 9,\n",
    "    'El-Salvador' : 10,\n",
    "    'Haiti' : 11,\n",
    "    'Puerto-Rico' :12,\n",
    "    'Trinadad&Tobago' : 13,\n",
    "    'Portugal' : 14,\n",
    "    'Laos' : 15,\n",
    "    'Jamaica' : 16,\n",
    "    'Ecuador' : 17,\n",
    "    'Thailand' : 18,\n",
    "    'Poland' : 19,\n",
    "    'South' : 20,\n",
    "    'Ireland' : 21,\n",
    "    'Hungary' : 22,\n",
    "    'United-States' : 23,\n",
    "    'Scotland' : 24,\n",
    "    '?' : 25,\n",
    "    'Cuba' : 26,\n",
    "    'China' : 27,\n",
    "    'Greece' : 28,\n",
    "    'Hong' : 29,\n",
    "    'Philippines' : 30,\n",
    "    'Germany' : 31,\n",
    "    'Canada' : 32,\n",
    "    'England' : 33,\n",
    "    'Italy' : 34,\n",
    "    'Cambodia' : 35,\n",
    "    'Yugoslavia' : 36,\n",
    "    'Japan' :37,\n",
    "    'Taiwan' :38,\n",
    "    'India' : 39,\n",
    "    'France' :40,\n",
    "    'Iran' : 41\n",
    "})                \n",
    "                               "
   ]
  },
  {
   "cell_type": "code",
   "execution_count": 19,
   "metadata": {},
   "outputs": [],
   "source": [
    "data['education_com'] = data['education'] * data['education-num']"
   ]
  },
  {
   "cell_type": "code",
   "execution_count": 20,
   "metadata": {},
   "outputs": [
    {
     "data": {
      "text/plain": [
       "age               0.234037\n",
       "workclass         0.164816\n",
       "fnlwgt           -0.009463\n",
       "education         0.333231\n",
       "education-num     0.335154\n",
       "marital-status    0.411532\n",
       "occupation        0.336541\n",
       "relationship      0.384144\n",
       "capital-gain      0.223329\n",
       "capital-loss      0.150526\n",
       "hours-per-week    0.229689\n",
       "native-country    0.097889\n",
       "wage_c            1.000000\n",
       "education_com     0.358760\n",
       "Name: wage_c, dtype: float64"
      ]
     },
     "execution_count": 20,
     "metadata": {},
     "output_type": "execute_result"
    }
   ],
   "source": [
    "data.corr()['wage_c']"
   ]
  },
  {
   "cell_type": "code",
   "execution_count": 21,
   "metadata": {},
   "outputs": [
    {
     "data": {
      "text/plain": [
       "['age',\n",
       " 'workclass',\n",
       " 'education',\n",
       " 'education-num',\n",
       " 'marital-status',\n",
       " 'occupation',\n",
       " 'relationship',\n",
       " 'capital-gain',\n",
       " 'capital-loss',\n",
       " 'hours-per-week',\n",
       " 'wage_c',\n",
       " 'education_com']"
      ]
     },
     "execution_count": 21,
     "metadata": {},
     "output_type": "execute_result"
    }
   ],
   "source": [
    "feature = [data.corr()['wage_c'].index[i] for i in range(len(data.corr()['wage_c'])) if abs(data.corr()['wage_c'][i])>0.15]\n",
    "feature"
   ]
  },
  {
   "cell_type": "code",
   "execution_count": 22,
   "metadata": {},
   "outputs": [],
   "source": [
    "X = data[feature].drop(columns = 'wage_c')\n",
    "y = data['wage_c']\n",
    "\n",
    "X_train, X_test, y_train, y_test = train_test_split(X, y, stratify = y, random_state = 42)"
   ]
  },
  {
   "cell_type": "markdown",
   "metadata": {},
   "source": [
    "## baseline"
   ]
  },
  {
   "cell_type": "code",
   "execution_count": 23,
   "metadata": {},
   "outputs": [
    {
     "data": {
      "text/plain": [
       "0    24720\n",
       "1     7841\n",
       "Name: wage_c, dtype: int64"
      ]
     },
     "execution_count": 23,
     "metadata": {},
     "output_type": "execute_result"
    }
   ],
   "source": [
    "data['wage_c'].value_counts()"
   ]
  },
  {
   "cell_type": "code",
   "execution_count": 24,
   "metadata": {
    "scrolled": true
   },
   "outputs": [
    {
     "data": {
      "text/plain": [
       "0    0.75919\n",
       "1    0.24081\n",
       "Name: wage_c, dtype: float64"
      ]
     },
     "execution_count": 24,
     "metadata": {},
     "output_type": "execute_result"
    }
   ],
   "source": [
    "data['wage_c'].value_counts(normalize=True)"
   ]
  },
  {
   "cell_type": "markdown",
   "metadata": {},
   "source": [
    "# Model"
   ]
  },
  {
   "cell_type": "markdown",
   "metadata": {},
   "source": [
    "## Adaboost"
   ]
  },
  {
   "cell_type": "code",
   "execution_count": 25,
   "metadata": {},
   "outputs": [
    {
     "data": {
      "text/plain": [
       "GridSearchCV(cv=5, error_score='raise-deprecating',\n",
       "             estimator=AdaBoostClassifier(algorithm='SAMME.R',\n",
       "                                          base_estimator=None,\n",
       "                                          learning_rate=1.0, n_estimators=50,\n",
       "                                          random_state=None),\n",
       "             iid='warn', n_jobs=4, param_grid={'n_estimators': [250, 500]},\n",
       "             pre_dispatch='2*n_jobs', refit=True, return_train_score=False,\n",
       "             scoring=None, verbose=0)"
      ]
     },
     "execution_count": 25,
     "metadata": {},
     "output_type": "execute_result"
    }
   ],
   "source": [
    "ada = AdaBoostClassifier()\n",
    "param = {\n",
    "    'n_estimators' : [250,500]\n",
    "}\n",
    "\n",
    "grid = GridSearchCV(ada,param, cv=5, n_jobs = 4)\n",
    "grid.fit(X_train, y_train)"
   ]
  },
  {
   "cell_type": "code",
   "execution_count": 26,
   "metadata": {},
   "outputs": [
    {
     "data": {
      "text/plain": [
       "{'n_estimators': 500}"
      ]
     },
     "execution_count": 26,
     "metadata": {},
     "output_type": "execute_result"
    }
   ],
   "source": [
    "grid.best_params_"
   ]
  },
  {
   "cell_type": "code",
   "execution_count": 27,
   "metadata": {},
   "outputs": [],
   "source": [
    "ada_train = grid.score(X_train, y_train)"
   ]
  },
  {
   "cell_type": "code",
   "execution_count": 28,
   "metadata": {},
   "outputs": [],
   "source": [
    "ada_test = grid.score(X_test, y_test)"
   ]
  },
  {
   "cell_type": "code",
   "execution_count": 29,
   "metadata": {},
   "outputs": [],
   "source": [
    "y_score_proba = [i[1] for i in grid.predict_proba(X_test)]\n",
    "ada_roc = roc_auc_score(y_test, y_score_proba)"
   ]
  },
  {
   "cell_type": "code",
   "execution_count": 30,
   "metadata": {},
   "outputs": [
    {
     "data": {
      "text/plain": [
       "0.9270267425850779"
      ]
     },
     "execution_count": 30,
     "metadata": {},
     "output_type": "execute_result"
    }
   ],
   "source": [
    "ada_roc"
   ]
  },
  {
   "cell_type": "markdown",
   "metadata": {},
   "source": [
    "## Gradient Boost"
   ]
  },
  {
   "cell_type": "code",
   "execution_count": 31,
   "metadata": {},
   "outputs": [
    {
     "data": {
      "text/plain": [
       "GridSearchCV(cv=5, error_score='raise-deprecating',\n",
       "             estimator=GradientBoostingClassifier(criterion='friedman_mse',\n",
       "                                                  init=None, learning_rate=0.1,\n",
       "                                                  loss='deviance', max_depth=3,\n",
       "                                                  max_features=None,\n",
       "                                                  max_leaf_nodes=None,\n",
       "                                                  min_impurity_decrease=0.0,\n",
       "                                                  min_impurity_split=None,\n",
       "                                                  min_samples_leaf=1,\n",
       "                                                  min_samples_split=2,\n",
       "                                                  min_weight_fraction_leaf=0.0,\n",
       "                                                  n_estimators=100,\n",
       "                                                  n_iter_no_change=None,\n",
       "                                                  presort='auto',\n",
       "                                                  random_state=None,\n",
       "                                                  subsample=1.0, tol=0.0001,\n",
       "                                                  validation_fraction=0.1,\n",
       "                                                  verbose=0, warm_start=False),\n",
       "             iid='warn', n_jobs=4, param_grid={'n_estimators': [200, 500]},\n",
       "             pre_dispatch='2*n_jobs', refit=True, return_train_score=False,\n",
       "             scoring=None, verbose=0)"
      ]
     },
     "execution_count": 31,
     "metadata": {},
     "output_type": "execute_result"
    }
   ],
   "source": [
    "grad = GradientBoostingClassifier()\n",
    "param = {\n",
    "    'n_estimators' : [200, 500]\n",
    "}\n",
    "\n",
    "grid = GridSearchCV(grad,param, cv=5, n_jobs = 4)\n",
    "grid.fit(X_train, y_train)"
   ]
  },
  {
   "cell_type": "code",
   "execution_count": 32,
   "metadata": {},
   "outputs": [
    {
     "data": {
      "text/plain": [
       "{'n_estimators': 200}"
      ]
     },
     "execution_count": 32,
     "metadata": {},
     "output_type": "execute_result"
    }
   ],
   "source": [
    "grid.best_params_"
   ]
  },
  {
   "cell_type": "code",
   "execution_count": 33,
   "metadata": {},
   "outputs": [],
   "source": [
    "grad_train = grid.score(X_train, y_train)"
   ]
  },
  {
   "cell_type": "code",
   "execution_count": 34,
   "metadata": {},
   "outputs": [],
   "source": [
    "grad_test = grid.score(X_test, y_test)"
   ]
  },
  {
   "cell_type": "code",
   "execution_count": 35,
   "metadata": {},
   "outputs": [],
   "source": [
    "y_score_proba = [i[1] for i in grid.predict_proba(X_test)]\n",
    "grad_roc = roc_auc_score(y_test, y_score_proba)"
   ]
  },
  {
   "cell_type": "code",
   "execution_count": 36,
   "metadata": {},
   "outputs": [
    {
     "data": {
      "text/plain": [
       "0.9293874579438637"
      ]
     },
     "execution_count": 36,
     "metadata": {},
     "output_type": "execute_result"
    }
   ],
   "source": [
    "grad_roc"
   ]
  },
  {
   "cell_type": "markdown",
   "metadata": {},
   "source": [
    "## bernoulliNB"
   ]
  },
  {
   "cell_type": "code",
   "execution_count": 37,
   "metadata": {},
   "outputs": [
    {
     "data": {
      "text/plain": [
       "GridSearchCV(cv=5, error_score='raise-deprecating',\n",
       "             estimator=BernoulliNB(alpha=1.0, binarize=0.0, class_prior=None,\n",
       "                                   fit_prior=True),\n",
       "             iid='warn', n_jobs=4, param_grid={'alpha': [0.1, 1, 10, 100]},\n",
       "             pre_dispatch='2*n_jobs', refit=True, return_train_score=False,\n",
       "             scoring=None, verbose=0)"
      ]
     },
     "execution_count": 37,
     "metadata": {},
     "output_type": "execute_result"
    }
   ],
   "source": [
    "ss = StandardScaler()\n",
    "bern = BernoulliNB()\n",
    "X_train_sc = ss.fit_transform(X_train)\n",
    "X_test_sc = ss.transform(X_test)\n",
    "\n",
    "param = {\n",
    "    'alpha' : [0.1, 1, 10, 100]\n",
    "}\n",
    "\n",
    "grid = GridSearchCV(bern,param, cv=5, n_jobs = 4)\n",
    "grid.fit(X_train_sc, y_train)"
   ]
  },
  {
   "cell_type": "code",
   "execution_count": 38,
   "metadata": {},
   "outputs": [
    {
     "data": {
      "text/plain": [
       "{'alpha': 10}"
      ]
     },
     "execution_count": 38,
     "metadata": {},
     "output_type": "execute_result"
    }
   ],
   "source": [
    "grid.best_params_"
   ]
  },
  {
   "cell_type": "code",
   "execution_count": 39,
   "metadata": {},
   "outputs": [],
   "source": [
    "bern_train = grid.score(X_train_sc, y_train)"
   ]
  },
  {
   "cell_type": "code",
   "execution_count": 40,
   "metadata": {},
   "outputs": [],
   "source": [
    "bern_test = grid.score(X_test_sc, y_test)"
   ]
  },
  {
   "cell_type": "code",
   "execution_count": 41,
   "metadata": {},
   "outputs": [],
   "source": [
    "y_score_proba = [i[1] for i in grid.predict_proba(X_test)]\n",
    "bern_roc = roc_auc_score(y_test, y_score_proba)"
   ]
  },
  {
   "cell_type": "markdown",
   "metadata": {},
   "source": [
    "## Gaussian"
   ]
  },
  {
   "cell_type": "code",
   "execution_count": 42,
   "metadata": {},
   "outputs": [
    {
     "data": {
      "text/plain": [
       "GridSearchCV(cv=5, error_score='raise-deprecating',\n",
       "             estimator=GaussianNB(priors=None, var_smoothing=1e-09), iid='warn',\n",
       "             n_jobs=4, param_grid={}, pre_dispatch='2*n_jobs', refit=True,\n",
       "             return_train_score=False, scoring=None, verbose=0)"
      ]
     },
     "execution_count": 42,
     "metadata": {},
     "output_type": "execute_result"
    }
   ],
   "source": [
    "gau = GaussianNB()\n",
    "param = {}\n",
    "\n",
    "grid = GridSearchCV(gau,param, cv=5, n_jobs = 4)\n",
    "grid.fit(X_train, y_train)"
   ]
  },
  {
   "cell_type": "code",
   "execution_count": 43,
   "metadata": {},
   "outputs": [],
   "source": [
    "gau_train = grid.score(X_train, y_train)"
   ]
  },
  {
   "cell_type": "code",
   "execution_count": 44,
   "metadata": {},
   "outputs": [],
   "source": [
    "gau_test = grid.score(X_test, y_test)"
   ]
  },
  {
   "cell_type": "code",
   "execution_count": 45,
   "metadata": {},
   "outputs": [],
   "source": [
    "y_score_proba = [i[1] for i in grid.predict_proba(X_test)]\n",
    "gau_roc = roc_auc_score(y_test, y_score_proba)"
   ]
  },
  {
   "cell_type": "markdown",
   "metadata": {},
   "source": [
    "## knn"
   ]
  },
  {
   "cell_type": "code",
   "execution_count": 46,
   "metadata": {},
   "outputs": [
    {
     "data": {
      "text/plain": [
       "GridSearchCV(cv=5, error_score='raise-deprecating',\n",
       "             estimator=KNeighborsClassifier(algorithm='auto', leaf_size=30,\n",
       "                                            metric='minkowski',\n",
       "                                            metric_params=None, n_jobs=None,\n",
       "                                            n_neighbors=5, p=2,\n",
       "                                            weights='uniform'),\n",
       "             iid='warn', n_jobs=4, param_grid={'n_neighbors': [3, 5, 10]},\n",
       "             pre_dispatch='2*n_jobs', refit=True, return_train_score=False,\n",
       "             scoring=None, verbose=0)"
      ]
     },
     "execution_count": 46,
     "metadata": {},
     "output_type": "execute_result"
    }
   ],
   "source": [
    "knn = KNeighborsClassifier()\n",
    "param = {\n",
    "    'n_neighbors' : [3,5,10]\n",
    "}\n",
    "\n",
    "grid = GridSearchCV(knn,param, cv=5, n_jobs = 4)\n",
    "grid.fit(X_train, y_train)"
   ]
  },
  {
   "cell_type": "code",
   "execution_count": 47,
   "metadata": {},
   "outputs": [
    {
     "data": {
      "text/plain": [
       "{'n_neighbors': 10}"
      ]
     },
     "execution_count": 47,
     "metadata": {},
     "output_type": "execute_result"
    }
   ],
   "source": [
    "grid.best_params_"
   ]
  },
  {
   "cell_type": "code",
   "execution_count": 48,
   "metadata": {},
   "outputs": [],
   "source": [
    "knn_train = grid.score(X_train, y_train)"
   ]
  },
  {
   "cell_type": "code",
   "execution_count": 49,
   "metadata": {},
   "outputs": [],
   "source": [
    "knn_test = grid.score(X_test,y_test)"
   ]
  },
  {
   "cell_type": "code",
   "execution_count": 50,
   "metadata": {},
   "outputs": [],
   "source": [
    "y_score_proba = [i[1] for i in grid.predict_proba(X_test)]\n",
    "knn_roc = roc_auc_score(y_test, y_score_proba)"
   ]
  },
  {
   "cell_type": "markdown",
   "metadata": {},
   "source": [
    "## logistic regression"
   ]
  },
  {
   "cell_type": "code",
   "execution_count": 51,
   "metadata": {},
   "outputs": [
    {
     "data": {
      "text/plain": [
       "GridSearchCV(cv=5, error_score='raise-deprecating',\n",
       "             estimator=LogisticRegression(C=1.0, class_weight=None, dual=False,\n",
       "                                          fit_intercept=True,\n",
       "                                          intercept_scaling=1, l1_ratio=None,\n",
       "                                          max_iter=100, multi_class='warn',\n",
       "                                          n_jobs=None, penalty='l2',\n",
       "                                          random_state=None, solver='warn',\n",
       "                                          tol=0.0001, verbose=0,\n",
       "                                          warm_start=False),\n",
       "             iid='warn', n_jobs=4,\n",
       "             param_grid={'C': [0.1, 1, 10], 'penalty': ['l1', 'l2']},\n",
       "             pre_dispatch='2*n_jobs', refit=True, return_train_score=False,\n",
       "             scoring=None, verbose=0)"
      ]
     },
     "execution_count": 51,
     "metadata": {},
     "output_type": "execute_result"
    }
   ],
   "source": [
    "log = LogisticRegression()\n",
    "param = {\n",
    "    'penalty': ['l1','l2'],\n",
    "    'C' : [0.1,1,10]\n",
    "}\n",
    "grid = GridSearchCV(log,param, cv=5, n_jobs = 4)\n",
    "grid.fit(X_train, y_train)"
   ]
  },
  {
   "cell_type": "code",
   "execution_count": 52,
   "metadata": {},
   "outputs": [
    {
     "data": {
      "text/plain": [
       "{'C': 1, 'penalty': 'l1'}"
      ]
     },
     "execution_count": 52,
     "metadata": {},
     "output_type": "execute_result"
    }
   ],
   "source": [
    "grid.best_params_"
   ]
  },
  {
   "cell_type": "code",
   "execution_count": 53,
   "metadata": {},
   "outputs": [],
   "source": [
    "log_train = grid.score(X_train,y_train)"
   ]
  },
  {
   "cell_type": "code",
   "execution_count": 54,
   "metadata": {},
   "outputs": [],
   "source": [
    "log_test = grid.score(X_test,y_test)"
   ]
  },
  {
   "cell_type": "code",
   "execution_count": 55,
   "metadata": {},
   "outputs": [],
   "source": [
    "y_score_proba = [i[1] for i in grid.predict_proba(X_test)]\n",
    "log_roc = roc_auc_score(y_test, y_score_proba)"
   ]
  },
  {
   "cell_type": "markdown",
   "metadata": {},
   "source": [
    "## Random Forest"
   ]
  },
  {
   "cell_type": "code",
   "execution_count": 56,
   "metadata": {},
   "outputs": [
    {
     "data": {
      "text/plain": [
       "GridSearchCV(cv=5, error_score='raise-deprecating',\n",
       "             estimator=RandomForestClassifier(bootstrap=True, class_weight=None,\n",
       "                                              criterion='gini', max_depth=None,\n",
       "                                              max_features='auto',\n",
       "                                              max_leaf_nodes=None,\n",
       "                                              min_impurity_decrease=0.0,\n",
       "                                              min_impurity_split=None,\n",
       "                                              min_samples_leaf=1,\n",
       "                                              min_samples_split=2,\n",
       "                                              min_weight_fraction_leaf=0.0,\n",
       "                                              n_estimators='warn', n_jobs=None,\n",
       "                                              oob_score=False,\n",
       "                                              random_state=None, verbose=0,\n",
       "                                              warm_start=False),\n",
       "             iid='warn', n_jobs=4, param_grid={}, pre_dispatch='2*n_jobs',\n",
       "             refit=True, return_train_score=False, scoring=None, verbose=0)"
      ]
     },
     "execution_count": 56,
     "metadata": {},
     "output_type": "execute_result"
    }
   ],
   "source": [
    "rf = RandomForestClassifier()\n",
    "param = {}\n",
    "grid = GridSearchCV(rf,param, cv=5, n_jobs = 4)\n",
    "grid.fit(X_train, y_train)"
   ]
  },
  {
   "cell_type": "code",
   "execution_count": 57,
   "metadata": {},
   "outputs": [],
   "source": [
    "rf_train = grid.score(X_train,y_train)"
   ]
  },
  {
   "cell_type": "code",
   "execution_count": 58,
   "metadata": {},
   "outputs": [],
   "source": [
    "rf_test = grid.score(X_test,y_test)"
   ]
  },
  {
   "cell_type": "code",
   "execution_count": 59,
   "metadata": {},
   "outputs": [],
   "source": [
    "y_score_proba = [i[1] for i in grid.predict_proba(X_test)]\n",
    "rf_roc = roc_auc_score(y_test, y_score_proba)"
   ]
  },
  {
   "cell_type": "markdown",
   "metadata": {},
   "source": [
    "# voting classifier"
   ]
  },
  {
   "cell_type": "code",
   "execution_count": 60,
   "metadata": {},
   "outputs": [],
   "source": [
    "bern_pipe = Pipeline([\n",
    "   ('ss', StandardScaler()),\n",
    "    ('bern' , BernoulliNB())\n",
    "])\n",
    "\n",
    "vc = VotingClassifier([\n",
    "    ('ada' , AdaBoostClassifier()),\n",
    "    ('grad' , GradientBoostingClassifier()),\n",
    "#    ('gau' , GaussianNB()),\n",
    "#    ('bern1',bern_pipe),\n",
    "#    ('knn' , KNeighborsClassifier()),\n",
    "#    ('log' , LogisticRegression()),\n",
    "#    ('rf' , RandomForestClassifier()),\n",
    "#    ('ec' , ExtraTreesClassifier()),\n",
    "],n_jobs = 4, voting = 'soft')\n",
    "\n",
    "\n",
    "params = {\n",
    "    'ada__n_estimators' : [250,500],\n",
    "    'grad__n_estimators' : [500],\n",
    "}\n"
   ]
  },
  {
   "cell_type": "code",
   "execution_count": 61,
   "metadata": {},
   "outputs": [
    {
     "data": {
      "text/plain": [
       "GridSearchCV(cv=3, error_score='raise-deprecating',\n",
       "             estimator=VotingClassifier(estimators=[('ada',\n",
       "                                                     AdaBoostClassifier(algorithm='SAMME.R',\n",
       "                                                                        base_estimator=None,\n",
       "                                                                        learning_rate=1.0,\n",
       "                                                                        n_estimators=50,\n",
       "                                                                        random_state=None)),\n",
       "                                                    ('grad',\n",
       "                                                     GradientBoostingClassifier(criterion='friedman_mse',\n",
       "                                                                                init=None,\n",
       "                                                                                learning_rate=0.1,\n",
       "                                                                                loss='deviance',\n",
       "                                                                                max_depth=3,\n",
       "                                                                                max_features=None,\n",
       "                                                                                max_lea...\n",
       "                                                                                n_iter_no_change=None,\n",
       "                                                                                presort='auto',\n",
       "                                                                                random_state=None,\n",
       "                                                                                subsample=1.0,\n",
       "                                                                                tol=0.0001,\n",
       "                                                                                validation_fraction=0.1,\n",
       "                                                                                verbose=0,\n",
       "                                                                                warm_start=False))],\n",
       "                                        flatten_transform=True, n_jobs=4,\n",
       "                                        voting='soft', weights=None),\n",
       "             iid='warn', n_jobs=None,\n",
       "             param_grid={'ada__n_estimators': [250, 500],\n",
       "                         'grad__n_estimators': [500]},\n",
       "             pre_dispatch='2*n_jobs', refit=True, return_train_score=False,\n",
       "             scoring=None, verbose=0)"
      ]
     },
     "execution_count": 61,
     "metadata": {},
     "output_type": "execute_result"
    }
   ],
   "source": [
    "gs = GridSearchCV(vc, params, cv = 3)\n",
    "gs.fit(X_train, y_train)"
   ]
  },
  {
   "cell_type": "code",
   "execution_count": 62,
   "metadata": {},
   "outputs": [],
   "source": [
    "vc_train = gs.score(X_train, y_train)"
   ]
  },
  {
   "cell_type": "code",
   "execution_count": 63,
   "metadata": {},
   "outputs": [],
   "source": [
    "vc_test = gs.score(X_test, y_test)"
   ]
  },
  {
   "cell_type": "code",
   "execution_count": 64,
   "metadata": {},
   "outputs": [],
   "source": [
    "y_score_proba = [i[1] for i in gs.predict_proba(X_test)]\n",
    "vc_roc = roc_auc_score(y_test, y_score_proba)"
   ]
  },
  {
   "cell_type": "code",
   "execution_count": 65,
   "metadata": {},
   "outputs": [],
   "source": [
    "submit_chicago = y_score_proba = [i[1] for i in gs.predict_proba(X_test)]"
   ]
  },
  {
   "cell_type": "code",
   "execution_count": 66,
   "metadata": {},
   "outputs": [
    {
     "data": {
      "text/plain": [
       "{'ada__n_estimators': 250, 'grad__n_estimators': 500}"
      ]
     },
     "execution_count": 66,
     "metadata": {},
     "output_type": "execute_result"
    }
   ],
   "source": [
    "gs.best_params_"
   ]
  },
  {
   "cell_type": "code",
   "execution_count": 67,
   "metadata": {},
   "outputs": [
    {
     "data": {
      "text/plain": [
       "0.9309068442131747"
      ]
     },
     "execution_count": 67,
     "metadata": {},
     "output_type": "execute_result"
    }
   ],
   "source": [
    "vc_roc"
   ]
  },
  {
   "cell_type": "markdown",
   "metadata": {},
   "source": [
    "# Comparison"
   ]
  },
  {
   "cell_type": "code",
   "execution_count": 86,
   "metadata": {},
   "outputs": [
    {
     "name": "stdout",
     "output_type": "stream",
     "text": [
      "ada accuracy: 0.8701064701064701,0.869672030463088\n",
      "gradient accuracy: 0.8764127764127764,0.8716373909839086\n",
      "bernoulli accuracy: 0.7932022932022932,0.799901731973959\n",
      "gaussian accuracy: 0.8378787878787879,0.8377349219997543\n",
      "knn accuracy: 0.8759623259623259,0.8555460017196904\n",
      "log accuracy: 0.847051597051597,0.8507554354501904\n",
      "Random Forest accuracy: 0.963963963963964,0.8439995086598698\n",
      "voting accuracy: 0.8828419328419328,0.8763051222208574\n"
     ]
    }
   ],
   "source": [
    "print (f'ada accuracy: {ada_train},{ada_test}')\n",
    "print (f'gradient accuracy: {grad_train},{grad_test}')\n",
    "print (f'bernoulli accuracy: {bern_train},{bern_test}')\n",
    "print (f'gaussian accuracy: {gau_train},{gau_test}')\n",
    "print (f'knn accuracy: {knn_train},{knn_test}')\n",
    "print (f'log accuracy: {log_train},{log_test}')\n",
    "print (f'Random Forest accuracy: {rf_train},{rf_test}')\n",
    "print (f'voting accuracy: {vc_train},{vc_test}')"
   ]
  },
  {
   "cell_type": "code",
   "execution_count": 87,
   "metadata": {},
   "outputs": [
    {
     "name": "stdout",
     "output_type": "stream",
     "text": [
      "ada roc:0.9270267425850779\n",
      "gradient roc:0.9293874579438637\n",
      "bernoulli roc:0.7580768005309226\n",
      "gaussian roc:0.8915853471302775\n",
      "knn orc:0.9003003773908853\n",
      "log roc:0.9034609022382614\n",
      "Random Forest roc:0.8800201159577242\n",
      "voting classifier roc:0.9309068442131747\n"
     ]
    }
   ],
   "source": [
    "print (f'ada roc:{ada_roc}')\n",
    "print (f'gradient roc:{grad_roc}')\n",
    "print (f'bernoulli roc:{bern_roc}')\n",
    "print (f'gaussian roc:{gau_roc}')\n",
    "print (f'knn orc:{knn_roc}')\n",
    "print (f'log roc:{log_roc}')\n",
    "print (f'Random Forest roc:{rf_roc}')\n",
    "print (f'voting classifier roc:{vc_roc}')"
   ]
  },
  {
   "cell_type": "code",
   "execution_count": null,
   "metadata": {},
   "outputs": [],
   "source": []
  },
  {
   "cell_type": "markdown",
   "metadata": {},
   "source": [
    "# Test"
   ]
  },
  {
   "cell_type": "code",
   "execution_count": 71,
   "metadata": {},
   "outputs": [
    {
     "data": {
      "text/plain": [
       "GridSearchCV(cv=3, error_score='raise-deprecating',\n",
       "             estimator=VotingClassifier(estimators=[('ada',\n",
       "                                                     AdaBoostClassifier(algorithm='SAMME.R',\n",
       "                                                                        base_estimator=None,\n",
       "                                                                        learning_rate=1.0,\n",
       "                                                                        n_estimators=50,\n",
       "                                                                        random_state=None)),\n",
       "                                                    ('grad',\n",
       "                                                     GradientBoostingClassifier(criterion='friedman_mse',\n",
       "                                                                                init=None,\n",
       "                                                                                learning_rate=0.1,\n",
       "                                                                                loss='deviance',\n",
       "                                                                                max_depth=3,\n",
       "                                                                                max_features=None,\n",
       "                                                                                max_lea...\n",
       "                                                                                n_iter_no_change=None,\n",
       "                                                                                presort='auto',\n",
       "                                                                                random_state=None,\n",
       "                                                                                subsample=1.0,\n",
       "                                                                                tol=0.0001,\n",
       "                                                                                validation_fraction=0.1,\n",
       "                                                                                verbose=0,\n",
       "                                                                                warm_start=False))],\n",
       "                                        flatten_transform=True, n_jobs=4,\n",
       "                                        voting='soft', weights=None),\n",
       "             iid='warn', n_jobs=None,\n",
       "             param_grid={'ada__n_estimators': [250, 500],\n",
       "                         'grad__n_estimators': [500]},\n",
       "             pre_dispatch='2*n_jobs', refit=True, return_train_score=False,\n",
       "             scoring=None, verbose=0)"
      ]
     },
     "execution_count": 71,
     "metadata": {},
     "output_type": "execute_result"
    }
   ],
   "source": [
    "bern_pipe = Pipeline([\n",
    "   ('ss', StandardScaler()),\n",
    "    ('bern' , BernoulliNB())\n",
    "])\n",
    "\n",
    "vc = VotingClassifier([\n",
    "    ('ada' , AdaBoostClassifier()),\n",
    "    ('grad' , GradientBoostingClassifier()),\n",
    "#    ('gau' , GaussianNB()),\n",
    "#    ('bern1',bern_pipe),\n",
    "#    ('knn' , KNeighborsClassifier()),\n",
    "#    ('log' , LogisticRegression()),\n",
    "#    ('rf' , RandomForestClassifier()),\n",
    "#    ('ec' , ExtraTreesClassifier()),\n",
    "],n_jobs = 4, voting = 'soft')\n",
    "\n",
    "\n",
    "params = {\n",
    "    'ada__n_estimators' : [250,500],\n",
    "    'grad__n_estimators' : [500],\n",
    "}\n",
    "\n",
    "gs = GridSearchCV(vc, params, cv = 3)\n",
    "gs.fit(X_train, y_train)"
   ]
  },
  {
   "cell_type": "code",
   "execution_count": 72,
   "metadata": {},
   "outputs": [],
   "source": [
    "test_data['workclass'] = test_data['workclass'].str.strip().map({\n",
    "    'Never-worked' : 0,\n",
    "    'Without-pay' : 0,\n",
    "    '?' : 1,\n",
    "    'Private' : 2,\n",
    "    'State-gov' : 3,\n",
    "    'Self-emp-not-inc' : 4,\n",
    "    'Local-gov' : 5,\n",
    "    'Federal-gov' : 6,\n",
    "    'Self-emp-inc' : 7\n",
    "})"
   ]
  },
  {
   "cell_type": "code",
   "execution_count": 73,
   "metadata": {},
   "outputs": [],
   "source": [
    "test_data['education'] = test_data['education'].str.strip().map({\n",
    "    'Preschool' : 0,\n",
    "    '1st-4th' : 1,\n",
    "    '5th-6th' : 2,\n",
    "    '11th' : 3,\n",
    "    '9th' : 4,\n",
    "    '7th-8th' : 5,\n",
    "    '10th' : 6,\n",
    "    '12th' : 7,\n",
    "    'HS-grad': 8,\n",
    "    'Some-college' : 9,\n",
    "    'Assoc-acdm' : 10,\n",
    "    'Assoc-voc' : 11,\n",
    "    'Bachelors' : 12,\n",
    "    'Masters' : 13,\n",
    "    'Prof-school' : 14,\n",
    "    'Doctorate' : 15\n",
    "})"
   ]
  },
  {
   "cell_type": "code",
   "execution_count": 74,
   "metadata": {},
   "outputs": [],
   "source": [
    "test_data['marital-status'] = test_data['marital-status'].str.strip().map({\n",
    "    'Never-married' : 0,\n",
    "    'Separated' : 1,\n",
    "    'Married-spouse-absent' : 2,\n",
    "    'Widowed': 3,\n",
    "    'Divorced' : 4,\n",
    "    'Married-AF-spouse' : 5,\n",
    "    'Married-civ-spouse' : 6,\n",
    "})"
   ]
  },
  {
   "cell_type": "code",
   "execution_count": 75,
   "metadata": {},
   "outputs": [],
   "source": [
    "test_data['occupation'] = test_data['occupation'].str.strip().map({\n",
    "    'Priv-house-serv' : 0,\n",
    "    'Other-service' : 1,\n",
    "    'Handlers-cleaners' : 2,\n",
    "    '?': 3,\n",
    "    'Armed-Forces' : 4,\n",
    "    'Farming-fishing' : 5,\n",
    "    'Machine-op-inspct' : 6,\n",
    "    'Adm-clerical' : 7,\n",
    "    'Transport-moving' : 8,\n",
    "    'Craft-repair' : 9,\n",
    "    'Sales' : 10,\n",
    "    'Tech-support' : 11,\n",
    "    'Protective-serv' : 12,\n",
    "    'Prof-specialty' : 13,\n",
    "    'Exec-managerial' :14\n",
    "})"
   ]
  },
  {
   "cell_type": "code",
   "execution_count": 76,
   "metadata": {},
   "outputs": [],
   "source": [
    "test_data['relationship'] = test_data['relationship'].str.strip().map({\n",
    "    'Own-child' : 0,\n",
    "    'Other-relative' : 1,\n",
    "    'Unmarried' : 2,\n",
    "    'Not-in-family' : 3,\n",
    "    'Husband' : 4,\n",
    "    'Wife' :5\n",
    "})"
   ]
  },
  {
   "cell_type": "code",
   "execution_count": 77,
   "metadata": {},
   "outputs": [],
   "source": [
    "test_data['native-country'] = test_data['native-country'].str.strip().map({\n",
    "    'Holand-Netherlands' : 0,\n",
    "    'Outlying-US(Guam-USVI-etc)' : 1,\n",
    "    'Dominican-Republic' : 2,\n",
    "    'Columbia' : 3,\n",
    "    'Guatemala' : 4,\n",
    "    'Mexico' : 5,\n",
    "    'Nicaragua' : 6,\n",
    "    'Peru' : 7,\n",
    "    'Vietnam' : 8,\n",
    "    'Honduras' : 9,\n",
    "    'El-Salvador' : 10,\n",
    "    'Haiti' : 11,\n",
    "    'Puerto-Rico' :12,\n",
    "    'Trinadad&Tobago' : 13,\n",
    "    'Portugal' : 14,\n",
    "    'Laos' : 15,\n",
    "    'Jamaica' : 16,\n",
    "    'Ecuador' : 17,\n",
    "    'Thailand' : 18,\n",
    "    'Poland' : 19,\n",
    "    'South' : 20,\n",
    "    'Ireland' : 21,\n",
    "    'Hungary' : 22,\n",
    "    'United-States' : 23,\n",
    "    'Scotland' : 24,\n",
    "    '?' : 25,\n",
    "    'Cuba' : 26,\n",
    "    'China' : 27,\n",
    "    'Greece' : 28,\n",
    "    'Hong' : 29,\n",
    "    'Philippines' : 30,\n",
    "    'Germany' : 31,\n",
    "    'Canada' : 32,\n",
    "    'England' : 33,\n",
    "    'Italy' : 34,\n",
    "    'Cambodia' : 35,\n",
    "    'Yugoslavia' : 36,\n",
    "    'Japan' :37,\n",
    "    'Taiwan' :38,\n",
    "    'India' : 39,\n",
    "    'France' :40,\n",
    "    'Iran' : 41\n",
    "})                "
   ]
  },
  {
   "cell_type": "code",
   "execution_count": 78,
   "metadata": {},
   "outputs": [
    {
     "data": {
      "text/plain": [
       "age               0\n",
       "workclass         0\n",
       "fnlwgt            0\n",
       "education         0\n",
       "education-num     0\n",
       "marital-status    0\n",
       "occupation        0\n",
       "relationship      0\n",
       "sex               0\n",
       "capital-gain      0\n",
       "capital-loss      0\n",
       "hours-per-week    0\n",
       "native-country    0\n",
       "dtype: int64"
      ]
     },
     "execution_count": 78,
     "metadata": {},
     "output_type": "execute_result"
    }
   ],
   "source": [
    "test_data.isnull().sum()"
   ]
  },
  {
   "cell_type": "code",
   "execution_count": 79,
   "metadata": {},
   "outputs": [],
   "source": [
    "test_data['education_com'] = test_data['education'] * test_data['education-num']"
   ]
  },
  {
   "cell_type": "code",
   "execution_count": 80,
   "metadata": {},
   "outputs": [],
   "source": [
    "new_feature = feature"
   ]
  },
  {
   "cell_type": "code",
   "execution_count": 81,
   "metadata": {},
   "outputs": [],
   "source": [
    "new_feature.remove('wage_c')"
   ]
  },
  {
   "cell_type": "code",
   "execution_count": 82,
   "metadata": {},
   "outputs": [
    {
     "data": {
      "text/plain": [
       "['age',\n",
       " 'workclass',\n",
       " 'education',\n",
       " 'education-num',\n",
       " 'marital-status',\n",
       " 'occupation',\n",
       " 'relationship',\n",
       " 'capital-gain',\n",
       " 'capital-loss',\n",
       " 'hours-per-week',\n",
       " 'education_com']"
      ]
     },
     "execution_count": 82,
     "metadata": {},
     "output_type": "execute_result"
    }
   ],
   "source": [
    "new_feature"
   ]
  },
  {
   "cell_type": "code",
   "execution_count": 83,
   "metadata": {},
   "outputs": [],
   "source": [
    "test_data['wage'] = [i[1] for i in gs.predict_proba(test_data[new_feature])]"
   ]
  },
  {
   "cell_type": "code",
   "execution_count": 84,
   "metadata": {},
   "outputs": [],
   "source": [
    "submit = pd.DataFrame(test_data['wage'])"
   ]
  },
  {
   "cell_type": "code",
   "execution_count": 85,
   "metadata": {},
   "outputs": [],
   "source": [
    "submit.to_csv('../data/submit.csv', index = False)"
   ]
  }
 ],
 "metadata": {
  "kernelspec": {
   "display_name": "Python 3",
   "language": "python",
   "name": "python3"
  },
  "language_info": {
   "codemirror_mode": {
    "name": "ipython",
    "version": 3
   },
   "file_extension": ".py",
   "mimetype": "text/x-python",
   "name": "python",
   "nbconvert_exporter": "python",
   "pygments_lexer": "ipython3",
   "version": "3.7.4"
  }
 },
 "nbformat": 4,
 "nbformat_minor": 2
}
